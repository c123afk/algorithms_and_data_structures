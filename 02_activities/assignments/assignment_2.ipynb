{
 "cells": [
  {
   "cell_type": "markdown",
   "metadata": {},
   "source": [
    "# Practice Interview\n",
    "\n",
    "## Objective\n",
    "\n",
    "_*The partner assignment aims to provide participants with the opportunity to practice coding in an interview context. You will analyze your partner's Assignment 1. Moreover, code reviews are common practice in a software development team. This assignment should give you a taste of the code review process.*_\n",
    "\n",
    "## Group Size\n",
    "\n",
    "Each group should have 2 people. You will be assigned a partner\n",
    "\n",
    "## Part 1:\n",
    "\n",
    "You and your partner must share each other's Assignment 1 submission."
   ]
  },
  {
   "cell_type": "markdown",
   "metadata": {},
   "source": [
    "\n",
    "## Part 2:\n",
    "\n",
    "Create a Jupyter Notebook, create 6 of the following headings, and complete the following for your partner's assignment 1:\n",
    "\n",
    "-   Paraphrase the problem in your own words.\n"
   ]
  },
  {
   "cell_type": "code",
   "execution_count": null,
   "metadata": {},
   "outputs": [],
   "source": [
    "# Given a list of positive integers, return a list of numbers that are missing from the range of integers in the given list\n",
    "# In other words, if not all of the integers within the range of the min to max value are shownn in the list, return the numbers missing from the sequence in the form of a list\n",
    "# If no numbers are missing, return -1"
   ]
  },
  {
   "cell_type": "markdown",
   "metadata": {},
   "source": [
    "\n",
    "-   Create 1 new example that demonstrates you understand the problem. Trace/walkthrough 1 example that your partner made and explain it.\n"
   ]
  },
  {
   "cell_type": "code",
   "execution_count": null,
   "metadata": {},
   "outputs": [],
   "source": [
    "# New example [3,2,3,4,5]\n",
    "# output should be -1 because none are missing from the range of values 2,3,4,5\n",
    "\n",
    "# Partner example [1,5,10]\n",
    "# output was [2,3,4,6,7,8,9] which is correct because it shows all missing numbers between 1 to 5, and between 5 to 10, exclusive"
   ]
  },
  {
   "cell_type": "markdown",
   "metadata": {},
   "source": [
    "\n",
    "-   Copy the solution your partner wrote. \n"
   ]
  },
  {
   "cell_type": "code",
   "execution_count": null,
   "metadata": {},
   "outputs": [],
   "source": [
    "# Partner's solution\n",
    "def missing_num(nums: list) -> list[int]:\n",
    "  result = []\n",
    "    \n",
    "  len_lst = len(nums)\n",
    "  max_lst = max(nums)\n",
    "  min_lst = min(nums)\n",
    "  \n",
    "  #base case\n",
    "\n",
    "  if len_lst == 1:\n",
    "    return -1\n",
    "  elif len_lst == 2 and max_lst == min_lst + 1:\n",
    "    return -1\n",
    "  else:\n",
    "    \n",
    "    i = min_lst + 1\n",
    "    while i < max_lst:\n",
    "      if i not in nums:\n",
    "        result.append(i)\n",
    "      i = i + 1\n",
    "    if len(result) == 0:\n",
    "      return -1\n",
    "    else:\n",
    "      return result"
   ]
  },
  {
   "cell_type": "markdown",
   "metadata": {},
   "source": [
    "\n",
    "-   Explain why their solution works in your own words.\n"
   ]
  },
  {
   "cell_type": "code",
   "execution_count": null,
   "metadata": {},
   "outputs": [],
   "source": [
    "# The base case of length 1 is correct because there's no range to contain any missing values\n",
    "# The elif is correct because a list of length 2 with 2 consecutive numbers do not contain missing numbers, thus return -1\n",
    "# In the else statement, the counter i continually updates by +1, starting from the min, up to the value before the max. \n",
    "    # Then it evaluates if i is not in the input list, and appends to the final output list the current value of i\n",
    "    # Finally, if all the i values are found in the input list, that means there aren't any missing numbers, so return -1. Otherwise, return the list of missing numbers."
   ]
  },
  {
   "cell_type": "markdown",
   "metadata": {},
   "source": [
    "\n",
    "-   Explain the problem’s time and space complexity in your own words.\n"
   ]
  },
  {
   "cell_type": "code",
   "execution_count": null,
   "metadata": {},
   "outputs": [],
   "source": [
    "# The time complexity is O(n^2) \n",
    "    # The base cases of length 1 and 2 are constant --> O(1)\n",
    "    # The while loop works on each integer within min+1 to max-1 range of the input list. In the worst case, there are n consecutive numbers (no missings) within the range --> O(n)\n",
    "    # The if-statement inside the loop scans the values within the input list to evaluate if the current i value is in it. The worst case is the same as the while loop above --> O(n)\n",
    "    # So the two combined is O(n*n)\n",
    "\n",
    "# The space complexity is O(n) because of the results list\n",
    "    # Additional space is needed to create the results list. The worst case is approx n assuming all numbers are missing between the min and max.\n",
    "    # The variable i gets continually updated so it's O(1). Other constants (min, max, len) all have O(1)."
   ]
  },
  {
   "cell_type": "markdown",
   "metadata": {},
   "source": [
    "\n",
    "-   Critique your partner's solution, including explanation, and if there is anything that should be adjusted.\n"
   ]
  },
  {
   "cell_type": "code",
   "execution_count": null,
   "metadata": {},
   "outputs": [],
   "source": [
    "# Since VN's solution evaluates each i+1 against the input list, it increases the time complexity. The solution could be sped if a set were used instead of a list.\n",
    "# An alternative solution could be to 1) turn the input list into a set of all the unique input values, 2) loop through the values between the min and max, exclusive, 3) check whether it's in the set which is more efficient than a list"
   ]
  },
  {
   "cell_type": "markdown",
   "metadata": {},
   "source": [
    "\n",
    "## Part 3:\n",
    "\n",
    "Please write a 200 word reflection documenting your process from assignment 1, and your presentation and review experience with your partner at the bottom of the Jupyter Notebook under a new heading \"Reflection.\" Again, export this Notebook as pdf.\n"
   ]
  },
  {
   "cell_type": "markdown",
   "metadata": {},
   "source": [
    "### Reflection"
   ]
  },
  {
   "cell_type": "markdown",
   "metadata": {},
   "source": [
    "I worked on question 1; the objective was to search for and return the duplicate value closest to the root, otherwise return -1 if no duplicates exist. My process was to traverse all the values at the current level before moving onto a deeper level (breadth first search), keeping track of the traversed nodes in a set and the current level. The current node is compared to the set of traversed nodes to see if it’s a duplicate value. The traversal stops when a duplicate is found or until the tree is completed. \n",
    "\n",
    "My partner’s objective was to find missing values in a list of positive integers. The input list could contain duplicates and could be unordered. My partner’s code uses the min and max which avoids any potential sorting, and correctly returns either -1 if all the integers in the range exists in the input list, or a list of integers that were missing from the range.\n",
    "\n",
    "In assignment 1, I thought about alternative ways to perform the traversal and decided that the BFS was more intuitive, although a DFS would have the same time complexity. Similarly, my critique of my partner’s solution was through consideration of alternative ways to simplify or speed up his code. Since the objective doesn’t need to account for duplicates, a set would have reduced time complexity compared to a list."
   ]
  },
  {
   "cell_type": "markdown",
   "metadata": {},
   "source": [
    "\n",
    "## Evaluation Criteria\n",
    "\n",
    "We are looking for the similar points as Assignment 1\n",
    "\n",
    "-   Problem is accurately stated\n",
    "\n",
    "-   New example is correct and easily understandable\n",
    "\n",
    "-   Correctness, time, and space complexity of the coding solution\n",
    "\n",
    "-   Clarity in explaining why the solution works, its time and space complexity\n",
    "\n",
    "-   Quality of critique of your partner's assignment, if necessary\n"
   ]
  },
  {
   "cell_type": "markdown",
   "metadata": {},
   "source": [
    "## Submission Information\n",
    "\n",
    "🚨 **Please review our [Assignment Submission Guide](https://github.com/UofT-DSI/onboarding/blob/main/onboarding_documents/submissions.md)** 🚨 for detailed instructions on how to format, branch, and submit your work. Following these guidelines is crucial for your submissions to be evaluated correctly.\n",
    "\n",
    "### Submission Parameters:\n",
    "* Submission Due Date: `HH:MM AM/PM - DD/MM/YYYY`\n",
    "* The branch name for your repo should be: `assignment-2`\n",
    "* What to submit for this assignment:\n",
    "    * This Jupyter Notebook (assignment_2.ipynb) should be populated and should be the only change in your pull request.\n",
    "* What the pull request link should look like for this assignment: `https://github.com/<your_github_username>/algorithms_and_data_structures/pull/<pr_id>`\n",
    "    * Open a private window in your browser. Copy and paste the link to your pull request into the address bar. Make sure you can see your pull request properly. This helps the technical facilitator and learning support staff review your submission easily.\n",
    "\n",
    "Checklist:\n",
    "- [ ] Created a branch with the correct naming convention.\n",
    "- [ ] Ensured that the repository is public.\n",
    "- [ ] Reviewed the PR description guidelines and adhered to them.\n",
    "- [ ] Verify that the link is accessible in a private browser window.\n",
    "\n",
    "If you encounter any difficulties or have questions, please don't hesitate to reach out to our team via our Slack at `#cohort-3-help`. Our Technical Facilitators and Learning Support staff are here to help you navigate any challenges.\n"
   ]
  }
 ],
 "metadata": {
  "language_info": {
   "name": "python"
  }
 },
 "nbformat": 4,
 "nbformat_minor": 2
}
